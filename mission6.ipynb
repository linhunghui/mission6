{
 "cells": [
  {
   "cell_type": "code",
   "execution_count": 6,
   "metadata": {},
   "outputs": [
    {
     "name": "stdout",
     "output_type": "stream",
     "text": [
      " * Serving Flask app \"__main__\" (lazy loading)\n",
      " * Environment: production\n",
      "   WARNING: Do not use the development server in a production environment.\n",
      "   Use a production WSGI server instead.\n",
      " * Debug mode: off\n"
     ]
    },
    {
     "name": "stderr",
     "output_type": "stream",
     "text": [
      " * Running on http://0.0.0.0:5000/ (Press CTRL+C to quit)\n",
      "10.120.23.19 - - [08/Jan/2019 19:27:38] \"GET / HTTP/1.1\" 200 -\n",
      "10.120.23.19 - - [08/Jan/2019 19:30:25] \"GET / HTTP/1.1\" 200 -\n",
      "10.120.23.19 - - [08/Jan/2019 19:31:07] \"GET / HTTP/1.1\" 200 -\n"
     ]
    }
   ],
   "source": [
    "#引用套件\n",
    "from flask import Flask,request,abort,jsonify\n",
    "\n",
    "#設置啟動點\n",
    "app = Flask(__name__,static_url_path = \"/images\" , static_folder = \"./images/\" )\n",
    "\n",
    "\n",
    "#定義app訪問路徑/及用戶能對此端口用get方法訪問\n",
    "@app.route('/',methods=['GET'])\n",
    "\n",
    "\n",
    "#傳回{\"userId\":1,\"userName\":\"xiaoming\"}\n",
    "def hello_world():\n",
    "    t = {\"userId\":1,\"userName\":\"linhunghui\"}\n",
    "    return jsonify(t)\n",
    "\n",
    "#啟用app(為user設計一個端口，win10記得去防火牆設定port規則)\n",
    "if __name__ == \"__main__\":\n",
    "    app.run(host='0.0.0.0',port='5000')"
   ]
  },
  {
   "cell_type": "code",
   "execution_count": null,
   "metadata": {},
   "outputs": [],
   "source": []
  }
 ],
 "metadata": {
  "kernelspec": {
   "display_name": "Python 3",
   "language": "python",
   "name": "python3"
  },
  "language_info": {
   "codemirror_mode": {
    "name": "ipython",
    "version": 3
   },
   "file_extension": ".py",
   "mimetype": "text/x-python",
   "name": "python",
   "nbconvert_exporter": "python",
   "pygments_lexer": "ipython3",
   "version": "3.7.2"
  }
 },
 "nbformat": 4,
 "nbformat_minor": 2
}
